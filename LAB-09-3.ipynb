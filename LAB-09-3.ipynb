{
 "cells": [
  {
   "cell_type": "markdown",
   "metadata": {},
   "source": [
    "# Dropout"
   ]
  },
  {
   "cell_type": "markdown",
   "metadata": {},
   "source": [
    "## mnist_nn_dropout"
   ]
  },
  {
   "cell_type": "code",
   "execution_count": 1,
   "metadata": {},
   "outputs": [
    {
     "name": "stderr",
     "output_type": "stream",
     "text": [
      "C:\\Users\\csw\\.conda\\envs\\deepLearn\\lib\\site-packages\\ipykernel_launcher.py:38: UserWarning: nn.init.xavier_uniform is now deprecated in favor of nn.init.xavier_uniform_.\n",
      "C:\\Users\\csw\\.conda\\envs\\deepLearn\\lib\\site-packages\\ipykernel_launcher.py:39: UserWarning: nn.init.xavier_uniform is now deprecated in favor of nn.init.xavier_uniform_.\n",
      "C:\\Users\\csw\\.conda\\envs\\deepLearn\\lib\\site-packages\\ipykernel_launcher.py:40: UserWarning: nn.init.xavier_uniform is now deprecated in favor of nn.init.xavier_uniform_.\n",
      "C:\\Users\\csw\\.conda\\envs\\deepLearn\\lib\\site-packages\\ipykernel_launcher.py:41: UserWarning: nn.init.xavier_uniform is now deprecated in favor of nn.init.xavier_uniform_.\n",
      "C:\\Users\\csw\\.conda\\envs\\deepLearn\\lib\\site-packages\\ipykernel_launcher.py:42: UserWarning: nn.init.xavier_uniform is now deprecated in favor of nn.init.xavier_uniform_.\n"
     ]
    },
    {
     "name": "stdout",
     "output_type": "stream",
     "text": [
      "Epoch:  0001 cost =  0.279324949\n",
      "Epoch:  0002 cost =  0.091839999\n",
      "Epoch:  0003 cost =  0.059177421\n",
      "Epoch:  0004 cost =  0.040364165\n",
      "Epoch:  0005 cost =  0.030351555\n",
      "Epoch:  0006 cost =  0.025038466\n",
      "Epoch:  0007 cost =  0.019285610\n",
      "Epoch:  0008 cost =  0.019576581\n",
      "Epoch:  0009 cost =  0.015468242\n",
      "Epoch:  0010 cost =  0.013505809\n",
      "Epoch:  0011 cost =  0.014784114\n",
      "Epoch:  0012 cost =  0.010054612\n",
      "Epoch:  0013 cost =  0.012086227\n",
      "Epoch:  0014 cost =  0.007986077\n",
      "Epoch:  0015 cost =  0.014596798\n"
     ]
    }
   ],
   "source": [
    "import torch\n",
    "import torchvision\n",
    "import torchvision.datasets as dsets\n",
    "import torchvision.transforms as transforms\n",
    "import random\n",
    "\n",
    "device = 'cuda' if torch.cuda.is_available() else 'cpu'\n",
    "\n",
    "# for reproducibility\n",
    "random.seed(777)\n",
    "torch.manual_seed(777)\n",
    "if device == 'cuda':\n",
    "    torch.cuda.manual_seed_all(777)\n",
    "    \n",
    "mnist_train = dsets.MNIST(root = \"MNIST_data/\", train = True, transform = torchvision.transforms.ToTensor(), download = True)\n",
    "\n",
    "mnist_test = dsets.MNIST(root = \"MNIST_data/\", train = False, transform = torchvision.transforms.ToTensor(), download = True)\n",
    "#DataLoader를 dateset으로 바꾸니 됨\n",
    "data_loader = torch.utils.data.DataLoader(dataset = mnist_train, batch_size = 100, shuffle = True, drop_last = True)\n",
    "\n",
    "\n",
    "#parameters\n",
    "training_epochs = 15\n",
    "batch_size = 100\n",
    "lr = 0.001\n",
    "drop_prob = 0.5\n",
    "\n",
    "#MNIST data image of shape 28 * 28 = 784\n",
    "linear1 = torch.nn.Linear(784, 512 ,bias= True).to(device)\n",
    "linear2 = torch.nn.Linear(512, 512 ,bias= True).to(device)\n",
    "linear3 = torch.nn.Linear(512, 512 ,bias= True).to(device)\n",
    "linear4 = torch.nn.Linear(512, 512 ,bias= True).to(device)\n",
    "linear5 = torch.nn.Linear(512, 10 ,bias= True).to(device)\n",
    "relu = torch.nn.ReLU()\n",
    "dropout = torch.nn.Dropout(p = drop_prob)\n",
    "\n",
    "#initialization\n",
    "torch.nn.init.xavier_uniform(linear1.weight)\n",
    "torch.nn.init.xavier_uniform(linear2.weight)\n",
    "torch.nn.init.xavier_uniform(linear3.weight)\n",
    "torch.nn.init.xavier_uniform(linear4.weight)\n",
    "torch.nn.init.xavier_uniform(linear5.weight)\n",
    "\n",
    "#model\n",
    "model = torch.nn.Sequential(linear1,relu,linear2,relu,linear3).to(device)\n",
    "\n",
    "# define cost/Loss & optimizer\n",
    "criterion = torch.nn.CrossEntropyLoss().to(device)\n",
    "optimizer = torch.optim.Adam(model.parameters(), lr)\n",
    "\n",
    "#Train\n",
    "total_batch = len(data_loader)\n",
    "model.train() # set the model to train mode (dropout = True)\n",
    "for epoch in range(training_epochs):\n",
    "    avg_cost = 0\n",
    "    total_batch = len(data_loader)\n",
    "    \n",
    "    for X, Y in data_loader:\n",
    "        # reshape input image into [batch_size by 784]\n",
    "        # Label is not one-hot encoded\n",
    "        X = X.view(-1,28 * 28).to(device)\n",
    "        Y = Y.to(device)\n",
    "        \n",
    "        optimizer.zero_grad()\n",
    "        hypothesis = model(X)\n",
    "        cost = criterion(hypothesis, Y)\n",
    "        cost.backward()\n",
    "        optimizer.step()\n",
    "        \n",
    "        avg_cost += cost / total_batch\n",
    "        \n",
    "        \n",
    "    print(\"Epoch: \", \"%04d\" % (epoch+1), \"cost = \", \"{:.9f}\".format(avg_cost))"
   ]
  },
  {
   "cell_type": "code",
   "execution_count": null,
   "metadata": {},
   "outputs": [],
   "source": [
    "#Test the model using test sets\n",
    "with torch.no_grad():\n",
    "    model.eval() # set the model to evaluation mode (dropout = False)\n",
    "    X_test = mnist_test.test_data.view(-1,28 * 28).float().to(device)\n",
    "    Y_test = mnist_test.test_labels.to(device)\n",
    "    \n",
    "    prediction = model(X_test)\n",
    "    correct_prediction = torch.argmax(prediction , 1) == Y_test\n",
    "    accuracy = correct_prediction.float().mean()\n",
    "    print(\"Accuracy: \", accuracy.item())"
   ]
  }
 ],
 "metadata": {
  "kernelspec": {
   "display_name": "Python 3",
   "language": "python",
   "name": "python3"
  },
  "language_info": {
   "codemirror_mode": {
    "name": "ipython",
    "version": 3
   },
   "file_extension": ".py",
   "mimetype": "text/x-python",
   "name": "python",
   "nbconvert_exporter": "python",
   "pygments_lexer": "ipython3",
   "version": "3.7.9"
  }
 },
 "nbformat": 4,
 "nbformat_minor": 4
}
