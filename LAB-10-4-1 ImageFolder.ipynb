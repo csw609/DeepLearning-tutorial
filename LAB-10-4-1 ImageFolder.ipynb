{
 "cells": [
  {
   "cell_type": "markdown",
   "metadata": {},
   "source": [
    "# ImageFolder (1)"
   ]
  },
  {
   "cell_type": "code",
   "execution_count": 1,
   "metadata": {},
   "outputs": [],
   "source": [
    "import torchvision\n",
    "from torchvision import transforms \n",
    "\n",
    "from torch.utils.data import DataLoader"
   ]
  },
  {
   "cell_type": "code",
   "execution_count": 2,
   "metadata": {},
   "outputs": [],
   "source": [
    "from matplotlib.pyplot import imshow\n",
    "%matplotlib inline"
   ]
  },
  {
   "cell_type": "code",
   "execution_count": 4,
   "metadata": {},
   "outputs": [],
   "source": [
    "trans = transforms.Compose([\n",
    "    transforms.Resize((64,128))\n",
    "])\n",
    "\n",
    "train_data = torchvision.datasets.ImageFolder(root='custom_data\\origin_data', transform = trans)"
   ]
  },
  {
   "cell_type": "code",
   "execution_count": 5,
   "metadata": {
    "scrolled": true
   },
   "outputs": [
    {
     "name": "stdout",
     "output_type": "stream",
     "text": [
      "0 <PIL.Image.Image image mode=RGB size=128x64 at 0x1D10C5FE1C8> 0\n",
      "1 <PIL.Image.Image image mode=RGB size=128x64 at 0x1D10C7798C8> 0\n",
      "2 <PIL.Image.Image image mode=RGB size=128x64 at 0x1D10C779888> 0\n",
      "3 <PIL.Image.Image image mode=RGB size=128x64 at 0x1D10C779908> 0\n",
      "4 <PIL.Image.Image image mode=RGB size=128x64 at 0x1D10C779CC8> 0\n",
      "5 <PIL.Image.Image image mode=RGB size=128x64 at 0x1D10C779D48> 0\n",
      "6 <PIL.Image.Image image mode=RGB size=128x64 at 0x1D10C779DC8> 0\n",
      "7 <PIL.Image.Image image mode=RGB size=128x64 at 0x1D10C779E48> 0\n",
      "8 <PIL.Image.Image image mode=RGB size=128x64 at 0x1D10C779EC8> 0\n",
      "9 <PIL.Image.Image image mode=RGB size=128x64 at 0x1D10C779F48> 0\n",
      "10 <PIL.Image.Image image mode=RGB size=128x64 at 0x1D10C782048> 0\n",
      "11 <PIL.Image.Image image mode=RGB size=128x64 at 0x1D10C782088> 0\n",
      "12 <PIL.Image.Image image mode=RGB size=128x64 at 0x1D10C782108> 0\n",
      "13 <PIL.Image.Image image mode=RGB size=128x64 at 0x1D10C782188> 0\n",
      "14 <PIL.Image.Image image mode=RGB size=128x64 at 0x1D10C782208> 0\n",
      "15 <PIL.Image.Image image mode=RGB size=128x64 at 0x1D10C782288> 0\n",
      "16 <PIL.Image.Image image mode=RGB size=128x64 at 0x1D10C782308> 0\n",
      "17 <PIL.Image.Image image mode=RGB size=128x64 at 0x1D10C782388> 0\n",
      "18 <PIL.Image.Image image mode=RGB size=128x64 at 0x1D10C782408> 0\n",
      "19 <PIL.Image.Image image mode=RGB size=128x64 at 0x1D10C782488> 0\n",
      "20 <PIL.Image.Image image mode=RGB size=128x64 at 0x1D10C782508> 0\n",
      "21 <PIL.Image.Image image mode=RGB size=128x64 at 0x1D10C782588> 0\n",
      "22 <PIL.Image.Image image mode=RGB size=128x64 at 0x1D10C782608> 0\n",
      "23 <PIL.Image.Image image mode=RGB size=128x64 at 0x1D10C782688> 0\n",
      "24 <PIL.Image.Image image mode=RGB size=128x64 at 0x1D10C782708> 0\n",
      "25 <PIL.Image.Image image mode=RGB size=128x64 at 0x1D10C782788> 0\n",
      "26 <PIL.Image.Image image mode=RGB size=128x64 at 0x1D10C782808> 0\n",
      "27 <PIL.Image.Image image mode=RGB size=128x64 at 0x1D10C5FE1C8> 0\n",
      "28 <PIL.Image.Image image mode=RGB size=128x64 at 0x1D10C779C48> 0\n",
      "29 <PIL.Image.Image image mode=RGB size=128x64 at 0x1D10C779908> 0\n",
      "30 <PIL.Image.Image image mode=RGB size=128x64 at 0x1D10C7798C8> 0\n",
      "31 <PIL.Image.Image image mode=RGB size=128x64 at 0x1D10C779DC8> 0\n",
      "32 <PIL.Image.Image image mode=RGB size=128x64 at 0x1D10C779E48> 0\n",
      "33 <PIL.Image.Image image mode=RGB size=128x64 at 0x1D10C779EC8> 0\n",
      "34 <PIL.Image.Image image mode=RGB size=128x64 at 0x1D10C779F48> 0\n",
      "35 <PIL.Image.Image image mode=RGB size=128x64 at 0x1D10C779F08> 0\n",
      "36 <PIL.Image.Image image mode=RGB size=128x64 at 0x1D10C779F88> 0\n",
      "37 <PIL.Image.Image image mode=RGB size=128x64 at 0x1D10C785048> 1\n",
      "38 <PIL.Image.Image image mode=RGB size=128x64 at 0x1D10C785088> 1\n",
      "39 <PIL.Image.Image image mode=RGB size=128x64 at 0x1D10C785108> 1\n",
      "40 <PIL.Image.Image image mode=RGB size=128x64 at 0x1D10C785188> 1\n",
      "41 <PIL.Image.Image image mode=RGB size=128x64 at 0x1D10C785208> 1\n",
      "42 <PIL.Image.Image image mode=RGB size=128x64 at 0x1D10C785288> 1\n",
      "43 <PIL.Image.Image image mode=RGB size=128x64 at 0x1D10C785308> 1\n",
      "44 <PIL.Image.Image image mode=RGB size=128x64 at 0x1D10C785388> 1\n",
      "45 <PIL.Image.Image image mode=RGB size=128x64 at 0x1D10C785408> 1\n",
      "46 <PIL.Image.Image image mode=RGB size=128x64 at 0x1D10C785488> 1\n"
     ]
    }
   ],
   "source": [
    "for num, value in enumerate(train_data):\n",
    "    data,label = value\n",
    "    print(num, data, label)\n",
    "    if(label == 0):\n",
    "        data.save('custom_data/train_data/chair/%d_%d.jpeg'%(num, label))\n",
    "    else:\n",
    "        data.save('custom_data/train_data/other/%d_%d.jpeg'%(num, label))"
   ]
  },
  {
   "cell_type": "markdown",
   "metadata": {},
   "source": [
    "### 데이터셋 생성 완료"
   ]
  }
 ],
 "metadata": {
  "kernelspec": {
   "display_name": "Python 3",
   "language": "python",
   "name": "python3"
  },
  "language_info": {
   "codemirror_mode": {
    "name": "ipython",
    "version": 3
   },
   "file_extension": ".py",
   "mimetype": "text/x-python",
   "name": "python",
   "nbconvert_exporter": "python",
   "pygments_lexer": "ipython3",
   "version": "3.7.9"
  }
 },
 "nbformat": 4,
 "nbformat_minor": 4
}
